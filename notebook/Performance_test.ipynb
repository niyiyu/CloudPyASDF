{
 "cells": [
  {
   "cell_type": "code",
   "execution_count": 4,
   "id": "d3e35d98",
   "metadata": {},
   "outputs": [
    {
     "name": "stdout",
     "output_type": "stream",
     "text": [
      "AWS credential exists.\n"
     ]
    }
   ],
   "source": [
    "import sys\n",
    "import psutil\n",
    "import os\n",
    "import pyasdf\n",
    "import matplotlib.pyplot as plt\n",
    "sys.path.append(\"../../sliderule\")\n",
    "sys.path.append(\"../\")\n",
    "\n",
    "import srpybin as sliderule\n",
    "from CloudPyASDF.utils import *\n",
    "from CloudPyASDF.asdf_data_set import *\n",
    "import time"
   ]
  },
  {
   "cell_type": "code",
   "execution_count": 2,
   "id": "af6362d0",
   "metadata": {},
   "outputs": [],
   "source": [
    "def pt(t):\n",
    "    plt.figure(figsize = (14, 10))\n",
    "    plt.subplot(2, 1, 1)\n",
    "    plt.plot(t)\n",
    "    plt.xlabel(\"Dataset\", fontsize = 20)\n",
    "    plt.ylabel(\"Reading time [s]\", fontsize = 20)\n",
    "    plt.grid(True)\n",
    "\n",
    "    print(\"Average reading time %.5f\" % np.mean(t))\n",
    "\n",
    "    plt.subplot(2, 1, 2)\n",
    "    plt.plot(np.array(ns)/1024**2)\n",
    "    plt.xlabel(\"Dataset\", fontsize = 20)\n",
    "    plt.ylabel(\"Network throughput [MB]\", fontsize = 20)\n",
    "    plt.grid(True)"
   ]
  },
  {
   "cell_type": "markdown",
   "id": "af50c2fd",
   "metadata": {},
   "source": [
    "# Traverse ASDF file by mounted S3 bucket (via s3fs FUSE) with H5coro"
   ]
  },
  {
   "cell_type": "code",
   "execution_count": 3,
   "id": "549fa278",
   "metadata": {},
   "outputs": [
    {
     "ename": "NameError",
     "evalue": "name 'CloudASDFDataSet' is not defined",
     "output_type": "error",
     "traceback": [
      "\u001b[0;31m---------------------------------------------------------------------------\u001b[0m",
      "\u001b[0;31mNameError\u001b[0m                                 Traceback (most recent call last)",
      "\u001b[0;32m/tmp/ipykernel_1446/4260961770.py\u001b[0m in \u001b[0;36m<module>\u001b[0;34m\u001b[0m\n\u001b[0;32m----> 1\u001b[0;31m \u001b[0mds\u001b[0m \u001b[0;34m=\u001b[0m \u001b[0mCloudASDFDataSet\u001b[0m\u001b[0;34m(\u001b[0m\u001b[0;34m\"UW.2020.005.h5\"\u001b[0m\u001b[0;34m,\u001b[0m \u001b[0;34m\"file\"\u001b[0m\u001b[0;34m,\u001b[0m \u001b[0;34m\"../../uw-asdftest/\"\u001b[0m\u001b[0;34m)\u001b[0m\u001b[0;34m\u001b[0m\u001b[0;34m\u001b[0m\u001b[0m\n\u001b[0m\u001b[1;32m      2\u001b[0m \u001b[0mds\u001b[0m\u001b[0;34m\u001b[0m\u001b[0;34m\u001b[0m\u001b[0m\n",
      "\u001b[0;31mNameError\u001b[0m: name 'CloudASDFDataSet' is not defined"
     ]
    }
   ],
   "source": [
    "ds = CloudASDFDataSet(\"UW.2020.005.h5\", \"file\", \"../../uw-asdftest/\")\n",
    "ds"
   ]
  },
  {
   "cell_type": "code",
   "execution_count": null,
   "id": "40aecee1",
   "metadata": {},
   "outputs": [],
   "source": [
    "ds.waveforms.UW_ALCT.raw_data"
   ]
  },
  {
   "cell_type": "code",
   "execution_count": null,
   "id": "9e114d26",
   "metadata": {},
   "outputs": [],
   "source": [
    "t = []\n",
    "ns = []\n",
    "for idx, i in enumerate(ds.waveforms):\n",
    "    t0 = time.time()\n",
    "    net0 = psutil.net_io_counters().bytes_recv\n",
    "#     for j in i:\n",
    "    _ = i.raw_data\n",
    "    if idx % 100 == 0:\n",
    "        print(\"Station ID: %d \" % idx)\n",
    "    netin = psutil.net_io_counters().bytes_recv - net0\n",
    "    t1 = time.time() - t0\n",
    "    \n",
    "    t.append(t1)\n",
    "    ns.append(netin)\n",
    "    if idx == 1600:\n",
    "        break"
   ]
  },
  {
   "cell_type": "code",
   "execution_count": null,
   "id": "1c274574",
   "metadata": {},
   "outputs": [],
   "source": [
    "pt(t)"
   ]
  },
  {
   "cell_type": "markdown",
   "id": "6d4348e8",
   "metadata": {},
   "source": [
    "# Traverse ASDF file directly through network with H5coro"
   ]
  },
  {
   "cell_type": "code",
   "execution_count": null,
   "id": "60e0a918",
   "metadata": {},
   "outputs": [],
   "source": [
    "ds = CloudASDFDataSet(\"UW.2020.005.h5\", \"s3\", \n",
    "                      \"uw-asdftest\", \"us-west-2\", \"https://s3.us-west-2.amazonaws.com\")\n",
    "ds"
   ]
  },
  {
   "cell_type": "code",
   "execution_count": null,
   "id": "a619f18e",
   "metadata": {},
   "outputs": [],
   "source": [
    "t = []\n",
    "ns = []\n",
    "for idx, i in enumerate(ds.waveforms):\n",
    "    t0 = time.time()\n",
    "    net0 = psutil.net_io_counters().bytes_recv\n",
    "#     for j in i:\n",
    "    _ = i.raw_data\n",
    "    if idx % 100 == 0:\n",
    "        print(\"Station ID: %d \" % idx)\n",
    "    netin = psutil.net_io_counters().bytes_recv - net0\n",
    "    t1 = time.time() - t0\n",
    "    \n",
    "    t.append(t1)\n",
    "    ns.append(netin)\n",
    "    if idx == 1600:\n",
    "        break"
   ]
  },
  {
   "cell_type": "code",
   "execution_count": null,
   "id": "288ee42c",
   "metadata": {},
   "outputs": [],
   "source": [
    "pt(t)"
   ]
  },
  {
   "cell_type": "markdown",
   "id": "0c550338",
   "metadata": {},
   "source": [
    "# Traverse data by mounted S3 backet (via s3fs FUSE) with pyasdf"
   ]
  },
  {
   "cell_type": "code",
   "execution_count": null,
   "id": "64b56823",
   "metadata": {},
   "outputs": [],
   "source": [
    "ds = pyasdf.ASDFDataSet(\"../uw-asdftest/UW.2020.005.h5\")\n",
    "ds"
   ]
  },
  {
   "cell_type": "code",
   "execution_count": null,
   "id": "06660cab",
   "metadata": {},
   "outputs": [],
   "source": [
    "t = []\n",
    "ns = []\n",
    "for idx, i in enumerate(ds.waveforms):\n",
    "    t0 = time.time()\n",
    "    net0 = psutil.net_io_counters().bytes_recv\n",
    "#     for j in i:\n",
    "    _ = i.raw_data\n",
    "    if idx % 100 == 0:\n",
    "        print(\"Station ID: %d \" % idx)\n",
    "    netin = psutil.net_io_counters().bytes_recv - net0\n",
    "    t1 = time.time() - t0\n",
    "    \n",
    "    t.append(t1)\n",
    "    ns.append(netin)\n",
    "    if idx == 1600:\n",
    "        break"
   ]
  },
  {
   "cell_type": "code",
   "execution_count": 5,
   "id": "6d92e042",
   "metadata": {},
   "outputs": [
    {
     "ename": "NameError",
     "evalue": "name 't' is not defined",
     "output_type": "error",
     "traceback": [
      "\u001b[0;31m---------------------------------------------------------------------------\u001b[0m",
      "\u001b[0;31mNameError\u001b[0m                                 Traceback (most recent call last)",
      "\u001b[0;32m/tmp/ipykernel_1446/3952028433.py\u001b[0m in \u001b[0;36m<module>\u001b[0;34m\u001b[0m\n\u001b[0;32m----> 1\u001b[0;31m \u001b[0mpt\u001b[0m\u001b[0;34m(\u001b[0m\u001b[0mt\u001b[0m\u001b[0;34m)\u001b[0m\u001b[0;34m\u001b[0m\u001b[0;34m\u001b[0m\u001b[0m\n\u001b[0m",
      "\u001b[0;31mNameError\u001b[0m: name 't' is not defined"
     ]
    }
   ],
   "source": [
    "pt(t)"
   ]
  },
  {
   "cell_type": "code",
   "execution_count": null,
   "id": "2b0301fa",
   "metadata": {},
   "outputs": [],
   "source": []
  }
 ],
 "metadata": {
  "kernelspec": {
   "display_name": "Python 3 (ipykernel)",
   "language": "python",
   "name": "python3"
  },
  "language_info": {
   "codemirror_mode": {
    "name": "ipython",
    "version": 3
   },
   "file_extension": ".py",
   "mimetype": "text/x-python",
   "name": "python",
   "nbconvert_exporter": "python",
   "pygments_lexer": "ipython3",
   "version": "3.7.10"
  }
 },
 "nbformat": 4,
 "nbformat_minor": 5
}
